{
 "cells": [
  {
   "cell_type": "code",
   "execution_count": 30,
   "metadata": {},
   "outputs": [],
   "source": [
    "import numpy as np\n",
    "import matplotlib.pyplot as plt\n",
    "import seaborn as sns\n",
    "import pandas as pd"
   ]
  },
  {
   "cell_type": "code",
   "execution_count": 2,
   "metadata": {},
   "outputs": [
    {
     "data": {
      "text/plain": [
       "array([[1, 2, 3],\n",
       "       [4, 5, 6]])"
      ]
     },
     "execution_count": 2,
     "metadata": {},
     "output_type": "execute_result"
    }
   ],
   "source": [
    "a=np.array([[1,2,3],[4,5,6]])\n",
    "a"
   ]
  },
  {
   "cell_type": "code",
   "execution_count": 11,
   "metadata": {},
   "outputs": [
    {
     "data": {
      "text/plain": [
       "array([[1, 2, 4],\n",
       "       [6, 7, 8]])"
      ]
     },
     "execution_count": 11,
     "metadata": {},
     "output_type": "execute_result"
    }
   ],
   "source": [
    "b=np.array([[1,2,4],[6,7,8]])\n",
    "b"
   ]
  },
  {
   "cell_type": "code",
   "execution_count": 14,
   "metadata": {},
   "outputs": [
    {
     "data": {
      "text/plain": [
       "array([[ 2,  4,  7],\n",
       "       [10, 12, 14]])"
      ]
     },
     "execution_count": 14,
     "metadata": {},
     "output_type": "execute_result"
    }
   ],
   "source": [
    "a+b"
   ]
  },
  {
   "cell_type": "code",
   "execution_count": 15,
   "metadata": {},
   "outputs": [
    {
     "data": {
      "text/plain": [
       "array([[ 0,  0, -1],\n",
       "       [-2, -2, -2]])"
      ]
     },
     "execution_count": 15,
     "metadata": {},
     "output_type": "execute_result"
    }
   ],
   "source": [
    "a-b"
   ]
  },
  {
   "cell_type": "code",
   "execution_count": 16,
   "metadata": {},
   "outputs": [
    {
     "data": {
      "text/plain": [
       "array([[ 1,  4, 12],\n",
       "       [24, 35, 48]])"
      ]
     },
     "execution_count": 16,
     "metadata": {},
     "output_type": "execute_result"
    }
   ],
   "source": [
    "a*b"
   ]
  },
  {
   "cell_type": "code",
   "execution_count": 19,
   "metadata": {},
   "outputs": [
    {
     "data": {
      "text/plain": [
       "array([[0, 0, 3],\n",
       "       [4, 5, 6]], dtype=int32)"
      ]
     },
     "execution_count": 19,
     "metadata": {},
     "output_type": "execute_result"
    }
   ],
   "source": [
    "a%b"
   ]
  },
  {
   "cell_type": "code",
   "execution_count": 23,
   "metadata": {},
   "outputs": [
    {
     "data": {
      "text/plain": [
       "array([[1, 2, 3],\n",
       "       [4, 5, 6],\n",
       "       [7, 8, 9]])"
      ]
     },
     "execution_count": 23,
     "metadata": {},
     "output_type": "execute_result"
    }
   ],
   "source": [
    "a=np.arange(1,10).reshape(3,3)\n",
    "a"
   ]
  },
  {
   "cell_type": "code",
   "execution_count": 24,
   "metadata": {},
   "outputs": [
    {
     "data": {
      "text/plain": [
       "array([[ 2,  4,  6],\n",
       "       [ 8, 10, 12],\n",
       "       [14, 16, 18]])"
      ]
     },
     "execution_count": 24,
     "metadata": {},
     "output_type": "execute_result"
    }
   ],
   "source": [
    "a*2"
   ]
  },
  {
   "cell_type": "code",
   "execution_count": 2,
   "metadata": {},
   "outputs": [
    {
     "data": {
      "text/plain": [
       "array([[1, 2],\n",
       "       [3, 4],\n",
       "       [5, 6]])"
      ]
     },
     "execution_count": 2,
     "metadata": {},
     "output_type": "execute_result"
    }
   ],
   "source": [
    "x=np.array([[1,2],[3,4],[5,6]])\n",
    "x\n"
   ]
  },
  {
   "cell_type": "code",
   "execution_count": 3,
   "metadata": {},
   "outputs": [
    {
     "data": {
      "text/plain": [
       "array([[1, 3, 5],\n",
       "       [2, 4, 6]])"
      ]
     },
     "execution_count": 3,
     "metadata": {},
     "output_type": "execute_result"
    }
   ],
   "source": [
    "#전치행렬\n",
    "\n",
    "x.T"
   ]
  },
  {
   "cell_type": "code",
   "execution_count": 4,
   "metadata": {},
   "outputs": [
    {
     "data": {
      "text/plain": [
       "array([[1., 0., 0.],\n",
       "       [0., 1., 0.],\n",
       "       [0., 0., 1.]])"
      ]
     },
     "execution_count": 4,
     "metadata": {},
     "output_type": "execute_result"
    }
   ],
   "source": [
    "#항등행렬\n",
    "\n",
    "i=np.eye(3)\n",
    "i"
   ]
  },
  {
   "cell_type": "code",
   "execution_count": 8,
   "metadata": {},
   "outputs": [
    {
     "data": {
      "text/plain": [
       "array([[0, 1, 2],\n",
       "       [3, 4, 5],\n",
       "       [6, 7, 8]])"
      ]
     },
     "execution_count": 8,
     "metadata": {},
     "output_type": "execute_result"
    }
   ],
   "source": [
    "a=np.arange(9).reshape(3,3)\n",
    "a"
   ]
  },
  {
   "cell_type": "code",
   "execution_count": 11,
   "metadata": {},
   "outputs": [
    {
     "data": {
      "text/plain": [
       "array([[ True,  True,  True],\n",
       "       [ True,  True,  True],\n",
       "       [ True,  True,  True]])"
      ]
     },
     "execution_count": 11,
     "metadata": {},
     "output_type": "execute_result"
    }
   ],
   "source": [
    "np.dot(a,i) == np.dot(i,a)"
   ]
  },
  {
   "cell_type": "markdown",
   "metadata": {},
   "source": [
    "역행렬"
   ]
  },
  {
   "cell_type": "code",
   "execution_count": 13,
   "metadata": {},
   "outputs": [
    {
     "data": {
      "text/plain": [
       "array([[-2. ,  1. ],\n",
       "       [ 1.5, -0.5]])"
      ]
     },
     "execution_count": 13,
     "metadata": {},
     "output_type": "execute_result"
    }
   ],
   "source": [
    "a=np.array([[1,2],[3,4]])\n",
    "inv=np.linalg.inv(a)\n",
    "inv"
   ]
  },
  {
   "cell_type": "code",
   "execution_count": 14,
   "metadata": {},
   "outputs": [
    {
     "data": {
      "text/plain": [
       "array([[1.00000000e+00, 1.11022302e-16],\n",
       "       [0.00000000e+00, 1.00000000e+00]])"
      ]
     },
     "execution_count": 14,
     "metadata": {},
     "output_type": "execute_result"
    }
   ],
   "source": [
    "#역행렬 법칙 검정\n",
    "np.dot(a,inv)"
   ]
  },
  {
   "cell_type": "code",
   "execution_count": 15,
   "metadata": {},
   "outputs": [
    {
     "data": {
      "text/plain": [
       "array([[1., 0.],\n",
       "       [0., 1.]])"
      ]
     },
     "execution_count": 15,
     "metadata": {},
     "output_type": "execute_result"
    }
   ],
   "source": [
    "np.round(np.dot(a,inv))"
   ]
  },
  {
   "cell_type": "code",
   "execution_count": 17,
   "metadata": {},
   "outputs": [
    {
     "data": {
      "text/plain": [
       "array([[1., 0.],\n",
       "       [0., 1.]])"
      ]
     },
     "execution_count": 17,
     "metadata": {},
     "output_type": "execute_result"
    }
   ],
   "source": [
    "np.round(np.dot(inv,a))"
   ]
  },
  {
   "cell_type": "code",
   "execution_count": null,
   "metadata": {},
   "outputs": [],
   "source": []
  },
  {
   "cell_type": "code",
   "execution_count": null,
   "metadata": {},
   "outputs": [],
   "source": []
  },
  {
   "cell_type": "markdown",
   "metadata": {},
   "source": [
    "선형결합"
   ]
  },
  {
   "cell_type": "code",
   "execution_count": 31,
   "metadata": {},
   "outputs": [],
   "source": [
    "from mpl_toolkits.mplot3d import Axes3D"
   ]
  },
  {
   "cell_type": "markdown",
   "metadata": {},
   "source": [
    "한 평면위의 3개 벡터"
   ]
  },
  {
   "cell_type": "code",
   "execution_count": 76,
   "metadata": {},
   "outputs": [
    {
     "data": {
      "image/png": "[encoded data removed]",
      "text/plain": [
       "<Figure size 432x288 with 1 Axes>"
      ]
     },
     "metadata": {
      "needs_background": "light"
     },
     "output_type": "display_data"
    }
   ],
   "source": [
    "a=np.array([1,5,0])\n",
    "b=np.array([4,4,0])\n",
    "c=np.array([4,7,0])\n",
    "\n",
    "\n",
    "f=plt.figure()\n",
    "ax=f.add_subplot(1,1,1,projection='3d')\n",
    "\n",
    "ax.quiver(0,0,0,a[0],a[1],a[2],color='black',arrow_length_ratio=0.1)\n",
    "ax.text(a[0],a[1],a[2],'a',size=15)\n",
    "ax.quiver(0,0,0,b[0],b[1],b[2],color='black',arrow_length_ratio=0.1)\n",
    "ax.text(b[0],b[1],b[2],'b',size=15)\n",
    "ax.quiver(0,0,0,c[0],c[1],c[2],color='blue',arrow_length_ratio=0.1)\n",
    "ax.text(c[0],c[1],c[2],'c',size=15)\n",
    "\n",
    "ax.set_xlim(0,8)\n",
    "ax.set_ylim(0,8)\n",
    "ax.set_zlim(0,8)\n",
    "\n",
    "ax.set_xlabel('X')\n",
    "ax.set_ylabel('Y')\n",
    "ax.set_zlabel('Z')\n",
    "ax.view_init(elev=30,azim=5)\n",
    "ax.grid()\n",
    "ax.set_axisbelow(True);"
   ]
  },
  {
   "cell_type": "code",
   "execution_count": null,
   "metadata": {},
   "outputs": [],
   "source": []
  },
  {
   "cell_type": "code",
   "execution_count": null,
   "metadata": {},
   "outputs": [],
   "source": []
  },
  {
   "cell_type": "markdown",
   "metadata": {},
   "source": [
    "선형종속"
   ]
  },
  {
   "cell_type": "code",
   "execution_count": 40,
   "metadata": {},
   "outputs": [
    {
     "data": {
      "image/png": "[encoded data removed]",
      "text/plain": [
       "<Figure size 432x288 with 1 Axes>"
      ]
     },
     "metadata": {
      "needs_background": "light"
     },
     "output_type": "display_data"
    }
   ],
   "source": [
    "a=np.array([1,5,0])\n",
    "b=np.array([4,4,0])\n",
    "c=np.array([4,7,0])\n",
    "\n",
    "a=a*0.75\n",
    "b=b*0.81\n",
    "\n",
    "f=plt.figure()\n",
    "ax=f.add_subplot(1,1,1,projection='3d')\n",
    "\n",
    "ax.quiver(0,0,0,a[0],a[1],a[2],color='black',arrow_length_ratio=0.1)\n",
    "ax.text(a[0],a[1],a[2],'a',size=15)\n",
    "ax.quiver(a[0],a[1],a[2],b[0],b[1],b[2],color='black',arrow_length_ratio=0.1)\n",
    "ax.text(a[0]+b[0],a[1]+b[1],a[2]+b[2],'b',size=15)\n",
    "ax.quiver(0,0,0,c[0],c[1],c[2],color='blue',arrow_length_ratio=0.1)\n",
    "ax.text(c[0]+1,c[1],c[2],'c',size=15)\n",
    "\n",
    "ax.set_xlim(0,8)\n",
    "ax.set_ylim(0,8)\n",
    "ax.set_zlim(0,8)\n",
    "\n",
    "ax.set_xlabel('X')\n",
    "ax.set_ylabel('Y')\n",
    "ax.set_zlabel('Z')\n",
    "ax.view_init(elev=20,azim=5)\n",
    "\n",
    "ax.grid()\n",
    "ax.set_axisbelow(True);"
   ]
  },
  {
   "cell_type": "code",
   "execution_count": null,
   "metadata": {},
   "outputs": [],
   "source": []
  },
  {
   "cell_type": "code",
   "execution_count": null,
   "metadata": {},
   "outputs": [],
   "source": []
  },
  {
   "cell_type": "markdown",
   "metadata": {},
   "source": [
    "선형독립"
   ]
  },
  {
   "cell_type": "code",
   "execution_count": 70,
   "metadata": {},
   "outputs": [
    {
     "data": {
      "image/png": "[encoded data removed]",
      "text/plain": [
       "<Figure size 432x288 with 1 Axes>"
      ]
     },
     "metadata": {
      "needs_background": "light"
     },
     "output_type": "display_data"
    }
   ],
   "source": [
    "a=np.array([10,2,0])\n",
    "b=np.array([4,5,0])\n",
    "c=np.array([0,0,5])\n",
    "\n",
    "\n",
    "f=plt.figure()\n",
    "ax=f.add_subplot(1,1,1,projection='3d')\n",
    "\n",
    "ax.quiver(0,0,0,a[0],a[1],a[2],color='black',arrow_length_ratio=0.1)\n",
    "ax.text(a[0],a[1]+1,a[2],'a',size=15)\n",
    "ax.quiver(0,0,0,b[0],b[1],b[2],color='black',arrow_length_ratio=0.1)\n",
    "ax.text(b[0],b[1]+1,b[2],'b',size=15)\n",
    "ax.quiver(0,0,0,c[0],c[1],c[2],color='blue',arrow_length_ratio=0.1)\n",
    "ax.text(c[0],c[1],c[2],'c',size=15)\n",
    "\n",
    "ax.set_xlim(0,11)\n",
    "ax.set_ylim(0,11)\n",
    "ax.set_zlim(0,11)\n",
    "\n",
    "ax.set_xlabel('X')\n",
    "ax.set_ylabel('Y')\n",
    "ax.set_zlabel('Z')\n",
    "ax.view_init(elev=10,azim=0)\n",
    "\n",
    "ax.grid()\n",
    "ax.set_axisbelow(True);"
   ]
  },
  {
   "cell_type": "code",
   "execution_count": null,
   "metadata": {},
   "outputs": [],
   "source": []
  },
  {
   "cell_type": "code",
   "execution_count": null,
   "metadata": {},
   "outputs": [],
   "source": []
  },
  {
   "cell_type": "code",
   "execution_count": null,
   "metadata": {},
   "outputs": [],
   "source": []
  },
  {
   "cell_type": "code",
   "execution_count": null,
   "metadata": {},
   "outputs": [],
   "source": []
  },
  {
   "cell_type": "markdown",
   "metadata": {},
   "source": [
    "랭크"
   ]
  },
  {
   "cell_type": "code",
   "execution_count": 42,
   "metadata": {},
   "outputs": [
    {
     "data": {
      "text/plain": [
       "2"
      ]
     },
     "execution_count": 42,
     "metadata": {},
     "output_type": "execute_result"
    }
   ],
   "source": [
    "a=np.array([[0,1,2],[1,2,1],[2,7,8]])\n",
    "np.linalg.matrix_rank(a)\n"
   ]
  },
  {
   "cell_type": "code",
   "execution_count": null,
   "metadata": {},
   "outputs": [],
   "source": []
  },
  {
   "cell_type": "code",
   "execution_count": null,
   "metadata": {},
   "outputs": [],
   "source": []
  },
  {
   "cell_type": "markdown",
   "metadata": {},
   "source": [
    "벡터 공간"
   ]
  },
  {
   "cell_type": "code",
   "execution_count": 56,
   "metadata": {},
   "outputs": [
    {
     "data": {
      "image/png": "[encoded data removed]",
      "text/plain": [
       "<Figure size 432x288 with 1 Axes>"
      ]
     },
     "metadata": {
      "needs_background": "light"
     },
     "output_type": "display_data"
    }
   ],
   "source": [
    "#기저 벡터\n",
    "\n",
    "a=np.array([2,1])\n",
    "b=np.array([-3,2])\n",
    "\n",
    "f=plt.figure()\n",
    "ax=f.add_subplot(1,1,1)\n",
    "\n",
    "ax.quiver(0,0,a[0],a[1],angles='xy',scale_units='xy',scale=1)\n",
    "ax.text(a[0],a[1],'a',size=15)\n",
    "ax.quiver(0,0,b[0],b[1],angles='xy',scale_units='xy',scale=1)\n",
    "ax.text(b[0],b[1],'b',size=15)\n",
    "\n",
    "ax.set_xticks(range(-5,4))\n",
    "ax.set_yticks(range(-2,6))\n",
    "\n",
    "ax.grid()\n",
    "ax.set_axisbelow(True)\n",
    "ax.set_aspect('equal',adjustable='box')\n",
    "\n",
    "ax.spines['left'].set_position('zero')\n",
    "ax.spines['bottom'].set_position('zero')\n",
    "ax.spines['right'].set_color('none')\n",
    "ax.spines['top'].set_color('none');"
   ]
  },
  {
   "cell_type": "code",
   "execution_count": 62,
   "metadata": {},
   "outputs": [
    {
     "data": {
      "image/png": "[encoded data removed]",
      "text/plain": [
       "<Figure size 432x288 with 1 Axes>"
      ]
     },
     "metadata": {
      "needs_background": "light"
     },
     "output_type": "display_data"
    }
   ],
   "source": [
    "#기저벡터가 아닌 경우\n",
    "\n",
    "a=np.array([2,1])\n",
    "b=np.array([-3,2])\n",
    "c=np.array([-6,4])\n",
    "\n",
    "f=plt.figure()\n",
    "ax=f.add_subplot(1,1,1)\n",
    "\n",
    "ax.quiver(0,0,a[0],a[1],angles='xy',scale_units='xy',scale=1)\n",
    "ax.text(a[0],a[1],'a',size=15)\n",
    "ax.quiver(0,0,b[0],b[1],angles='xy',scale_units='xy',scale=1)\n",
    "ax.text(b[0],b[1],'b',size=15)\n",
    "ax.quiver(0,0,c[0],c[1],angles='xy',scale_units='xy',scale=1)\n",
    "ax.text(c[0],c[1],'c',size=15,color='blue')\n",
    "\n",
    "ax.set_xticks(range(-8,4))\n",
    "ax.set_yticks(range(-2,6))\n",
    "\n",
    "ax.grid()\n",
    "ax.set_axisbelow(True)\n",
    "ax.set_aspect('equal',adjustable='box')\n",
    "\n",
    "ax.spines['left'].set_position('zero')\n",
    "ax.spines['bottom'].set_position('zero')\n",
    "ax.spines['right'].set_color('none')\n",
    "ax.spines['top'].set_color('none');"
   ]
  },
  {
   "cell_type": "code",
   "execution_count": 47,
   "metadata": {},
   "outputs": [],
   "source": [
    "#부분공간이 아닌 경우\n",
    "from matplotlib.patches import Rectangle,Arrow"
   ]
  },
  {
   "cell_type": "code",
   "execution_count": 52,
   "metadata": {},
   "outputs": [
    {
     "data": {
      "image/png": "[encoded data removed]",
      "text/plain": [
       "<Figure size 432x288 with 1 Axes>"
      ]
     },
     "metadata": {
      "needs_background": "light"
     },
     "output_type": "display_data"
    }
   ],
   "source": [
    "a=np.array([2,4])\n",
    "b=np.array([5,2])\n",
    "\n",
    "f=plt.figure()\n",
    "ax=f.add_subplot(1,1,1)\n",
    "\n",
    "ax.add_patch(Rectangle((0,0),6,6,alpha=1,facecolor='blue',zorder=1))\n",
    "\n",
    "ax.quiver(0,0,a[0],a[1],angles='xy',scale_units='xy',scale=1,zorder=2,color='white')\n",
    "ax.text(a[0],a[1],'a',size=15,color='white')\n",
    "ax.quiver(0,0,b[0],b[1],angles='xy',scale_units='xy',scale=1,zorder=2,color='white')\n",
    "ax.text(b[0],b[1],'b',size=15,color='white')\n",
    "ax.quiver(0,0,a[0]+b[0],a[1]+b[1],angles='xy',scale_units='xy',scale=1,zorder=2,color='red')\n",
    "ax.text(a[0]+b[0],a[1]+b[1],'a+b',size=15,color='red')\n",
    "\n",
    "ax.set_xticks(range(-1,10))\n",
    "ax.set_yticks(range(-1,10))\n",
    "\n",
    "ax.grid()\n",
    "ax.set_axisbelow(True)\n",
    "ax.set_aspect('equal',adjustable='box')\n",
    "\n",
    "ax.spines['left'].set_position('zero')\n",
    "ax.spines['bottom'].set_position('zero')\n",
    "ax.spines['right'].set_color('none')\n",
    "ax.spines['top'].set_color('none');"
   ]
  },
  {
   "cell_type": "code",
   "execution_count": 53,
   "metadata": {},
   "outputs": [
    {
     "data": {
      "image/png": "[encoded data removed]",
      "text/plain": [
       "<Figure size 432x288 with 1 Axes>"
      ]
     },
     "metadata": {
      "needs_background": "light"
     },
     "output_type": "display_data"
    }
   ],
   "source": [
    "#부분공간인경우\n",
    "\n",
    "a=np.array([4,1])\n",
    "b=np.array([-8,-2])\n",
    "\n",
    "f=plt.figure()\n",
    "ax=f.add_subplot(1,1,1)\n",
    "\n",
    "line_x=[]\n",
    "line_y=[]\n",
    "\n",
    "for c1 in np.linspace(-0.9,0.9,25):\n",
    "    for c2 in np.linspace(-0.9,0.9,25):\n",
    "        c1_a1=a*c1\n",
    "        c2_a2=b*c2\n",
    "        sum=c1_a1+c2_a2\n",
    "        line_x.append(sum[0])\n",
    "        line_y.append(sum[1])\n",
    "\n",
    "ax.plot(line_x,line_y,color='blue',zorder=0)\n",
    "\n",
    "ax.quiver(0,0,a[0],a[1],angles='xy',scale_units='xy',scale=1,zorder=2)\n",
    "ax.text(a[0],a[1],'a',size=15)\n",
    "ax.quiver(0,0,b[0],b[1],angles='xy',scale_units='xy',scale=1,zorder=2)\n",
    "ax.text(b[0],b[1]+0.5,'b',size=15)\n",
    "ax.quiver(0,0,a[0]+b[0],a[1]+b[1],angles='xy',scale_units='xy',scale=1,zorder=2,color='red')\n",
    "ax.text(a[0]+b[0],a[1]+b[1]+1,'a+b',size=15,color='red')\n",
    "\n",
    "ax.set_xticks(range(-11,12))\n",
    "ax.set_yticks(range(-5,5))\n",
    "\n",
    "ax.grid()\n",
    "ax.set_axisbelow(True)\n",
    "ax.set_aspect('equal',adjustable='box')\n",
    "\n",
    "ax.spines['left'].set_position('zero')\n",
    "ax.spines['bottom'].set_position('zero')\n",
    "ax.spines['right'].set_color('none')\n",
    "ax.spines['top'].set_color('none');"
   ]
  },
  {
   "cell_type": "code",
   "execution_count": null,
   "metadata": {},
   "outputs": [],
   "source": []
  },
  {
   "cell_type": "code",
   "execution_count": null,
   "metadata": {},
   "outputs": [],
   "source": []
  },
  {
   "cell_type": "code",
   "execution_count": 6,
   "metadata": {},
   "outputs": [
    {
     "data": {
      "image/png": "[encoded data removed]",
      "text/plain": [
       "<Figure size 432x288 with 1 Axes>"
      ]
     },
     "metadata": {
      "needs_background": "light"
     },
     "output_type": "display_data"
    }
   ],
   "source": [
    "#기저\n",
    "\n",
    "a=np.array([2,1])\n",
    "b=np.array([-3,2])\n",
    "\n",
    "f=plt.figure()\n",
    "ax=f.add_subplot(1,1,1)\n",
    "\n",
    "for c1 in np.linspace(-3,3,10):\n",
    "    for c2 in np.linspace(-3,3,10):\n",
    "        c1_a=a*c1\n",
    "        c2_b=b*c2\n",
    "        sum=c1_a+c2_b\n",
    "        plt.scatter(sum[0],sum[1],color='blue')\n",
    "    \n",
    "plt.quiver(0,0,a[0],a[1],angles='xy',scale_units='xy',scale=1,color='red')\n",
    "plt.text(a[0],a[1],'a',size=15,color='red')\n",
    "plt.quiver(0,0,b[0],b[1],angles='xy',scale_units='xy',scale=1,color='red')\n",
    "plt.text(b[0],b[1],'b',size=15,color='red')\n",
    "\n",
    "\n",
    "ax.set_xticks(range(-16,16))\n",
    "ax.set_yticks(range(-12,12))\n",
    "\n",
    "ax.grid()\n",
    "ax.set_axisbelow(True)\n",
    "ax.set_aspect('equal',adjustable='box')\n",
    "\n",
    "ax.spines['left'].set_position('zero')\n",
    "ax.spines['bottom'].set_position('zero')\n",
    "ax.spines['right'].set_color('none')\n",
    "ax.spines['top'].set_color('none');"
   ]
  },
  {
   "cell_type": "code",
   "execution_count": null,
   "metadata": {},
   "outputs": [],
   "source": []
  },
  {
   "cell_type": "code",
   "execution_count": null,
   "metadata": {},
   "outputs": [],
   "source": []
  },
  {
   "cell_type": "code",
   "execution_count": 8,
   "metadata": {},
   "outputs": [
    {
     "data": {
      "image/png": "[encoded data removed]",
      "text/plain": [
       "<Figure size 432x288 with 1 Axes>"
      ]
     },
     "metadata": {
      "needs_background": "light"
     },
     "output_type": "display_data"
    }
   ],
   "source": [
    "\n",
    "a=np.array([1,2])\n",
    "b=np.array([3,6])\n",
    "\n",
    "f=plt.figure()\n",
    "ax=f.add_subplot(1,1,1)\n",
    "\n",
    "for c1 in np.linspace(-1.5,1.5,25):\n",
    "    for c2 in np.linspace(-1.5,1.5,25):\n",
    "        c1_a=a*c1\n",
    "        c2_b=b*c2\n",
    "        sum=c1_a+c2_b\n",
    "        plt.scatter(sum[0],sum[1],color='blue',zorder=1,s=1)\n",
    "    \n",
    "plt.quiver(0,0,a[0],a[1],angles='xy',scale_units='xy',scale=1,color='black',zorder=2)\n",
    "plt.text(a[0],a[1],'a',size=15,color='black',zorder=2)\n",
    "plt.quiver(0,0,b[0],b[1],angles='xy',scale_units='xy',scale=1,color='black',zorder=2)\n",
    "plt.text(b[0],b[1],'b',size=15,color='black',zorder=2)\n",
    "\n",
    "ax.axis([-7,7,-7,7])\n",
    "ax.set_xticks(range(-7,7))\n",
    "ax.set_yticks(range(-7,7))\n",
    "\n",
    "ax.grid()\n",
    "ax.set_axisbelow(True)\n",
    "ax.set_aspect('equal',adjustable='box')\n",
    "\n",
    "ax.spines['left'].set_position('zero')\n",
    "ax.spines['bottom'].set_position('zero')\n",
    "ax.spines['right'].set_color('none')\n",
    "ax.spines['top'].set_color('none');"
   ]
  },
  {
   "cell_type": "code",
   "execution_count": null,
   "metadata": {},
   "outputs": [],
   "source": []
  },
  {
   "cell_type": "code",
   "execution_count": null,
   "metadata": {},
   "outputs": [],
   "source": []
  },
  {
   "cell_type": "code",
   "execution_count": 12,
   "metadata": {},
   "outputs": [
    {
     "data": {
      "text/plain": [
       "array([-1.5  , -1.375, -1.25 , -1.125, -1.   , -0.875, -0.75 , -0.625,\n",
       "       -0.5  , -0.375, -0.25 , -0.125,  0.   ,  0.125,  0.25 ,  0.375,\n",
       "        0.5  ,  0.625,  0.75 ,  0.875,  1.   ,  1.125,  1.25 ,  1.375,\n",
       "        1.5  ])"
      ]
     },
     "execution_count": 12,
     "metadata": {},
     "output_type": "execute_result"
    }
   ],
   "source": [
    "np.linspace(-1.5,1.5,25)"
   ]
  },
  {
   "cell_type": "code",
   "execution_count": null,
   "metadata": {},
   "outputs": [],
   "source": []
  }
 ],
 "metadata": {
  "kernelspec": {
   "display_name": "Python 3",
   "language": "python",
   "name": "python3"
  },
  "language_info": {
   "codemirror_mode": {
    "name": "ipython",
    "version": 3
   },
   "file_extension": ".py",
   "mimetype": "text/x-python",
   "name": "python",
   "nbconvert_exporter": "python",
   "pygments_lexer": "ipython3",
   "version": "3.7.4"
  }
 },
 "nbformat": 4,
 "nbformat_minor": 2
}
