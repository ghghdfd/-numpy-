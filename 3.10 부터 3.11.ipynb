{
 "cells": [
  {
   "cell_type": "code",
   "execution_count": 2,
   "metadata": {},
   "outputs": [
    {
     "name": "stdout",
     "output_type": "stream",
     "text": [
      "4.0\n"
     ]
    },
    {
     "data": {
      "image/png": "[encoded data removed]",
      "text/plain": [
       "<Figure size 432x288 with 1 Axes>"
      ]
     },
     "metadata": {
      "needs_background": "light"
     },
     "output_type": "display_data"
    }
   ],
   "source": [
    "import numpy as np\n",
    "import matplotlib.pyplot as plt\n",
    "import matplotlib.patches as patches\n",
    "\n",
    "\n",
    "points = np.array([[1,1],[1,2],[2,2],[2,1]])\n",
    "A = np.array([[2, 0], [0, 2]])\n",
    "\n",
    "\n",
    "fig = plt.figure() \n",
    "ax = fig.add_subplot(1, 1, 1)\n",
    "\n",
    "\n",
    "print(np.linalg.det(A))\n",
    "\n",
    "\n",
    "ax.add_patch(patches.Polygon(points, fill=False, color='blue', zorder=1))\n",
    "ax.add_patch(patches.Polygon(np.dot(points,A), fill=False, color=\"red\", zorder=2))\n",
    "ax.text(1.4, 1.4, 'A', size=15)\n",
    "ax.text(2.9, 2.9, 'B', size=15)\n",
    "\n",
    "\n",
    "ax.set_xticks(range(-1, 6))\n",
    "ax.set_yticks(range(-1, 6))\n",
    "ax.grid()\n",
    "ax.set_axisbelow(True)\n",
    "ax.set_aspect('equal', adjustable='box')\n",
    "\n",
    "\n",
    "ax.spines['left'].set_position('zero')\n",
    "ax.spines['bottom'].set_position('zero')\n",
    "ax.spines['right'].set_color('none')\n",
    "ax.spines['top'].set_color('none');"
   ]
  },
  {
   "cell_type": "code",
   "execution_count": null,
   "metadata": {},
   "outputs": [],
   "source": []
  },
  {
   "cell_type": "code",
   "execution_count": null,
   "metadata": {},
   "outputs": [],
   "source": []
  },
  {
   "cell_type": "code",
   "execution_count": 3,
   "metadata": {},
   "outputs": [
    {
     "name": "stdout",
     "output_type": "stream",
     "text": [
      "A\n",
      "[[3 2]\n",
      " [4 1]]\n",
      "\n",
      "고유값\n",
      "[ 5. -1.]\n",
      "고유벡터\n",
      "[[ 0.70710678 -0.4472136 ]\n",
      " [ 0.70710678  0.89442719]]\n",
      "\n",
      "lambda * eigenvector == A * eigenvector\n",
      "[3.53553391 3.53553391] [3.53553391 3.53553391]\n",
      "[ 0.4472136  -0.89442719] [ 0.4472136  -0.89442719]\n"
     ]
    }
   ],
   "source": [
    "import numpy as np\n",
    "\n",
    "\n",
    "A = np.array([[3, 2], [4, 1]])\n",
    "\n",
    "print(\"A\")\n",
    "print(A)\n",
    "print()\n",
    "\n",
    "\n",
    "eigenvalue,eigenvector = np.linalg.eig(A)\n",
    "\n",
    "print(\"고유값\")\n",
    "print(eigenvalue)\n",
    "print(\"고유벡터\")\n",
    "print(eigenvector)\n",
    "print()\n",
    "\n",
    "# 고유벡터는 eigenvector의 열벡터입니다. \n",
    "eigenvector1 = eigenvector[:, 0]\n",
    "eigenvector2 = eigenvector[:, 1]\n",
    "eigenvalue1 = eigenvalue[0]\n",
    "eigenvalue2 = eigenvalue[1]\n",
    "\n",
    "# lambda * eigenvector와 A * eigenvector가 같음을 확인합니다. \n",
    "print(\"lambda * eigenvector == A * eigenvector\")\n",
    "print(eigenvalue1*eigenvector1, np.dot(A, eigenvector1))\n",
    "print(eigenvalue2*eigenvector2, np.dot(A, eigenvector2))\n"
   ]
  },
  {
   "cell_type": "code",
   "execution_count": null,
   "metadata": {},
   "outputs": [],
   "source": []
  },
  {
   "cell_type": "code",
   "execution_count": 5,
   "metadata": {},
   "outputs": [
    {
     "data": {
      "image/png": "[encoded data removed]",
      "text/plain": [
       "<Figure size 432x288 with 3 Axes>"
      ]
     },
     "metadata": {
      "needs_background": "light"
     },
     "output_type": "display_data"
    }
   ],
   "source": [
    "import numpy as np\n",
    "import matplotlib.pyplot as plt\n",
    "\n",
    "\n",
    "A = np.array([[4, 3], [1, -2]])\n",
    "\n",
    "\n",
    "# 고유벡터와 고유값 계산 \n",
    "eigenvalue,eigenvector = np.linalg.eig(A)\n",
    "\n",
    "eigenvector1 = eigenvector[:,0]\n",
    "eigenvector2 = eigenvector[:,1]\n",
    "lambda1 = eigenvalue[0]\n",
    "lambda2 = eigenvalue[1]\n",
    "\n",
    "\n",
    "# 1 x 3 크기의 서브 플롯 생성\n",
    "f, ax= plt.subplots(1, 3)\n",
    "\n",
    "# 서브 플롯 상단에 텍스트 추가\n",
    "ax[0].title.set_text('v')\n",
    "ax[1].title.set_text('Av')\n",
    "ax[2].title.set_text('λv')\n",
    "\n",
    "# Av, lambda*v 계산\n",
    "s1 = np.dot(A, eigenvector1)\n",
    "s2 = np.dot(A, eigenvector2)\n",
    "w1 = np.dot(eigenvector1, lambda1)\n",
    "w2 = np.dot(eigenvector2, lambda2)\n",
    "\n",
    "\n",
    "# 벡터 표시\n",
    "ax[0].quiver(0, 0, eigenvector1[0], eigenvector1[1], angles='xy', scale_units='xy', scale=1, color=\"black\")\n",
    "ax[0].quiver(0, 0, eigenvector2[0], eigenvector2[1], angles='xy', scale_units='xy', scale=1, color=\"black\")\n",
    "ax[0].text(eigenvector1[0], eigenvector1[1], 'v1', size=10)\n",
    "ax[0].text(eigenvector2[0], eigenvector2[1], 'v2', size=10)\n",
    "ax[1].quiver(0, 0, s1[0], s1[1], angles='xy', scale_units='xy', scale=1, color=\"red\")\n",
    "ax[1].quiver(0, 0, s2[0], s2[1], angles='xy', scale_units='xy', scale=1, color=\"red\")\n",
    "ax[1].text(s1[0], s1[1], 'Av1', size=10)\n",
    "ax[1].text(s2[0], s2[1], 'Av2', size=10)\n",
    "ax[2].quiver(0, 0, w1[0], w1[1], angles='xy', scale_units='xy', scale=1, color=\"blue\")\n",
    "ax[2].quiver(0, 0, w2[0], w2[1], angles='xy', scale_units='xy', scale=1, color=\"blue\")\n",
    "ax[2].text(w1[0], w1[1], '{:.2f}v1'.format(lambda1), size=10)\n",
    "ax[2].text(w2[0], w2[1], ' {:.2f}v2'.format(lambda2), size=10)\n",
    "\n",
    "\n",
    "# 그리드 생성\n",
    "start_x = -1\n",
    "end_x = 6\n",
    "start_y = -3\n",
    "end_y = 3\n",
    "for i in range(3):\n",
    "    ax[i].axis([start_x, end_x, start_y, end_y])\n",
    "    ax[i].set_xticks(range(start_x, end_x))\n",
    "    ax[i].set_yticks(range(start_y, end_y))\n",
    "    ax[i].grid(True)\n",
    "    ax[i].set_aspect('equal', adjustable='box');\n"
   ]
  },
  {
   "cell_type": "code",
   "execution_count": null,
   "metadata": {},
   "outputs": [],
   "source": []
  },
  {
   "cell_type": "code",
   "execution_count": null,
   "metadata": {},
   "outputs": [],
   "source": []
  },
  {
   "cell_type": "code",
   "execution_count": 7,
   "metadata": {},
   "outputs": [
    {
     "data": {
      "image/png": "[encoded data removed]",
      "text/plain": [
       "<Figure size 432x288 with 2 Axes>"
      ]
     },
     "metadata": {
      "needs_background": "light"
     },
     "output_type": "display_data"
    }
   ],
   "source": [
    "import numpy as np\n",
    "import matplotlib.pyplot as plt\n",
    "\n",
    "\n",
    "A = np.array([[2, 0], [0, 3]])\n",
    "\n",
    "\n",
    "eigenvalue,eigenvector = np.linalg.eig(A)\n",
    "\n",
    "eigenvector1 = eigenvector[:,0]\n",
    "eigenvector2 = eigenvector[:,1]\n",
    "lambda1 = eigenvalue[0]\n",
    "lambda2 = eigenvalue[1]\n",
    "\n",
    "\n",
    "f, ax= plt.subplots(1, 2)\n",
    "\n",
    "\n",
    "points = np.array([[-1, 1,], [1, 1,], [1, -1,], [-1, -1,], [-1, 1,]])\n",
    "x = points[:, 0]\n",
    "y = points[:, 1]\n",
    "\n",
    "\n",
    "\n",
    "for idx in range(len(points)-1):\n",
    "\n",
    "    ax[0].plot([points[idx,0], points[idx+1,0]], [points[idx,1], points[idx+1,1]], color='black' )\n",
    "\n",
    "    new_point1 = np.dot(A, points[idx])\n",
    "    new_point2 = np.dot(A, points[idx+1])\n",
    "    ax[1].plot([new_point1[0], new_point2[0]], [new_point1[1], new_point2[1]], color='black' )\n",
    "\n",
    "\n",
    "v1 = np.dot(A, eigenvector1)\n",
    "v2 = np.dot(A, eigenvector2)\n",
    "\n",
    "w = np.array([1, 1])\n",
    "w_ = np.dot(A, w)\n",
    "\n",
    "\n",
    "ax[0].quiver(0, 0, eigenvector1[0], eigenvector1[1], angles='xy', scale_units='xy', scale=1, color='blue', width=0.01)\n",
    "ax[0].quiver(0, 0, eigenvector2[0], eigenvector2[1], angles='xy', scale_units='xy', scale=1, color='blue', width=0.01)\n",
    "ax[0].quiver(0, 0, w[0], w[1], angles='xy', scale_units='xy', scale=1, color='red', width=0.01)\n",
    "ax[0].text(eigenvector1[0]+0.5, eigenvector1[1], 'v1', size=15)\n",
    "ax[0].text(eigenvector2[0], eigenvector2[1]+0.5, 'v2', size=15)\n",
    "ax[0].text(w[0], w[1], 'w', size=15)\n",
    "ax[1].quiver(0, 0, v1[0], v1[1], angles='xy', scale_units='xy', scale=1, color=\"blue\", width=0.01)\n",
    "ax[1].quiver(0, 0, v2[0], v2[1], angles='xy', scale_units='xy', scale=1, color=\"blue\", width=0.01)\n",
    "ax[1].quiver(0, 0, w_[0], w_[1], angles='xy', scale_units='xy', scale=1, color=\"red\", width=0.01)\n",
    "ax[1].text(v1[0]+0.5, v1[1], 'v1', size=15)\n",
    "ax[1].text(v2[0], v2[1]+0.5, 'v2', size=15)\n",
    "ax[1].text(w_[0], w_[1]+0.5, 'w', size=15)\n",
    "\n",
    "\n",
    "start_x = -5\n",
    "end_x = 5\n",
    "start_y = -6\n",
    "end_y = 6\n",
    "\n",
    "for i in range(2):\n",
    "    ax[i].axis([start_x, end_x, start_y, end_y])\n",
    "    ax[i].set_xticks(range(start_x, end_x))\n",
    "    ax[i].set_yticks(range(start_y, end_y))\n",
    "    ax[i].grid(True)\n",
    "    ax[i].set_axisbelow(True)\n",
    "    ax[i].set_aspect('equal', adjustable='box');"
   ]
  },
  {
   "cell_type": "code",
   "execution_count": null,
   "metadata": {},
   "outputs": [],
   "source": []
  },
  {
   "cell_type": "code",
   "execution_count": null,
   "metadata": {},
   "outputs": [],
   "source": []
  },
  {
   "cell_type": "code",
   "execution_count": 9,
   "metadata": {},
   "outputs": [
    {
     "data": {
      "image/png": "[encoded data removed]",
      "text/plain": [
       "<Figure size 432x288 with 1 Axes>"
      ]
     },
     "metadata": {
      "needs_background": "light"
     },
     "output_type": "display_data"
    }
   ],
   "source": [
    "import numpy as np\n",
    "import matplotlib.pyplot as plt\n",
    "\n",
    "\n",
    "A = np.array([[2, 0], [0, 3]])\n",
    "\n",
    "\n",
    "eigenvalue,eigenvector = np.linalg.eig(A)\n",
    "\n",
    "eigenvector1 = eigenvector[:,0]\n",
    "eigenvector2 = eigenvector[:,1]\n",
    "lambda1 = eigenvalue[0]\n",
    "lambda2 = eigenvalue[1]\n",
    "\n",
    "\n",
    "f, ax= plt.subplots(1, 1)\n",
    "\n",
    "\n",
    "\n",
    "v1 = np.dot(A, eigenvector1)\n",
    "v2 = np.dot(A, eigenvector2)\n",
    "\n",
    "\n",
    "  \n",
    "for theta in range(0,360,10):  \n",
    "    radian = theta*np.pi/180  \n",
    "    X1=2*np.cos(radian)  \n",
    "    Y1=2*np.sin(radian)  \n",
    "    X2=4*np.cos(radian)\n",
    "    Y2=4*np.sin(radian)\n",
    "\n",
    "    U,V = np.dot(A, np.array([X2, Y2]))\n",
    "\n",
    "    ax.quiver(X1, Y1, X2, Y2, angles='xy', scale_units='xy', scale=1, color='blue')\n",
    "    ax.quiver(X1, Y1, U, V, angles='xy', scale_units='xy', scale=1, color='red')\n",
    "\n",
    "\n",
    "ax.quiver(0, 0, eigenvector1[0]*eigenvalue[0], eigenvector1[1]*eigenvalue[0], \n",
    "          angles='xy', scale_units='xy', scale=1, color='green')\n",
    "ax.quiver(0, 0, eigenvector2[0]*eigenvalue[1], eigenvector2[1]*eigenvalue[1], \n",
    "          angles='xy', scale_units='xy', scale=1, color='green')\n",
    "\n",
    "\n",
    "start_x = -12\n",
    "end_x = 12\n",
    "start_y = -17\n",
    "end_y = 17\n",
    "\n",
    "ax.axis([start_x, end_x, start_y, end_y])\n",
    "ax.set_xticks(range(start_x, end_x))\n",
    "ax.set_yticks(range(start_y, end_y))\n",
    "ax.grid(True)\n",
    "ax.set_axisbelow(True)\n",
    "ax.set_aspect('equal', adjustable='box');\n"
   ]
  },
  {
   "cell_type": "code",
   "execution_count": null,
   "metadata": {},
   "outputs": [],
   "source": []
  }
 ],
 "metadata": {
  "kernelspec": {
   "display_name": "Python 3",
   "language": "python",
   "name": "python3"
  },
  "language_info": {
   "codemirror_mode": {
    "name": "ipython",
    "version": 3
   },
   "file_extension": ".py",
   "mimetype": "text/x-python",
   "name": "python",
   "nbconvert_exporter": "python",
   "pygments_lexer": "ipython3",
   "version": "3.7.4"
  }
 },
 "nbformat": 4,
 "nbformat_minor": 2
}
